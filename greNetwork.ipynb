{
 "cells": [
  {
   "cell_type": "markdown",
   "metadata": {
    "slideshow": {
     "slide_type": "slide"
    }
   },
   "source": [
    "Use SPACE to change to next slide. <br>\n",
    "Whenever you see code cells press SHIFT+ENTER to execute it and then move to next slide."
   ]
  },
  {
   "cell_type": "markdown",
   "metadata": {
    "slideshow": {
     "slide_type": "slide"
    }
   },
   "source": [
    "Hola!<br>\n",
    "We have all tried keeping those high frequency GRE words in our memory using various hacks, sometimes even rote memorization. <br>\n",
    "This is an attempt to make that problem a bit easy. <br>\n"
   ]
  },
  {
   "cell_type": "markdown",
   "metadata": {
    "slideshow": {
     "slide_type": "slide"
    }
   },
   "source": [
    "There are a total of over 370 common GRE words that have been arranged as networks.<br>\n",
    "We have 2 kinds of networks. <br>\n",
    "The blue colored networks have synonyms. The meaning is represented by the central triangular node while the circles around it are all its synonymns.<br>\n",
    "On the other hand, the green colored networks are commonly confused words. These are represented by squares. If you hover over them, you will see their meanings.<br>"
   ]
  },
  {
   "cell_type": "code",
   "execution_count": 1,
   "metadata": {
    "_cell_guid": "79c7e3d0-c299-4dcb-8224-4455121ee9b0",
    "_uuid": "d629ff2d2480ee46fbb7e2d37f6b5fab8052498a",
    "slideshow": {
     "slide_type": "subslide"
    }
   },
   "outputs": [
    {
     "name": "stdout",
     "output_type": "stream",
     "text": [
      "Done! Press SPACE to go ahead.\n"
     ]
    }
   ],
   "source": [
    "# Press shift+enter to execute\n",
    "import pandas as pd\n",
    "import networkx as nx\n",
    "from pyvis.network import Network\n",
    "from pyvis import network as net\n",
    "import numpy as np\n",
    "\n",
    "\n",
    "df1 = pd.read_excel('data/GRE Links and Malaprops.xlsx')\n",
    "df1.fillna(0, inplace=True)\n",
    "df2 = pd.read_excel(\n",
    "    'data/GRE Links and Malaprops.xlsx',\n",
    "    sheet_name=1,\n",
    "    header=None)\n",
    "df2.fillna(0, inplace=True)\n",
    "df2 = df2.drop(index=38, axis=0).reset_index()\n",
    "df2.drop(columns='index', axis=1, inplace=True)\n",
    "gre_net = net.Network(\n",
    "    height=\"500px\",\n",
    "    width=\"100%\",\n",
    "    bgcolor=\"#222222\",\n",
    "    font_color=\"white\",\n",
    "    notebook=True)\n",
    "\n",
    "for i in df1.values:\n",
    "    if i[0] == 0:\n",
    "        continue\n",
    "    gre_net.add_node(i[0], i[0], title=i[0], size=50, shape='triangle')\n",
    "    for syn in i[1:]:\n",
    "        if syn == 0:\n",
    "            break\n",
    "        gre_net.add_node(syn, syn, title=syn, shape='dot', size=25)\n",
    "        gre_net.add_edge(i[0], syn)\n",
    "neighbor_map = gre_net.get_adj_list()\n",
    "\n",
    "for i in range(0, len(df2.values), 2):\n",
    "    gre_net.add_node(df2.values[i][0],\n",
    "                     df2.values[i][0],\n",
    "                     title=df2.values[i + 1][0],\n",
    "                     color=\"#00ff1e\")\n",
    "    for j in range(1, len(df2.values[i])):\n",
    "        if df2.values[i][j] == 0:\n",
    "            break\n",
    "        gre_net.add_node(df2.values[i][j],\n",
    "                         df2.values[i][j],\n",
    "                         title=df2.values[i + 1][j],\n",
    "                         color=\"#00ff1e\",\n",
    "                         shape='diamond',\n",
    "                         size=50)\n",
    "        gre_net.add_edge(df2.values[i][0], df2.values[i][j])\n",
    "print(\"Done! Press SPACE to go ahead.\")"
   ]
  },
  {
   "cell_type": "markdown",
   "metadata": {
    "slideshow": {
     "slide_type": "slide"
    }
   },
   "source": [
    "The visualisation will come up after executing the next cell. \n",
    "You can play around by moving the networks."
   ]
  },
  {
   "cell_type": "code",
   "execution_count": 2,
   "metadata": {
    "slideshow": {
     "slide_type": "slide"
    }
   },
   "outputs": [
    {
     "data": {
      "text/html": [
       "\n",
       "        <iframe\n",
       "            width=\"100%\"\n",
       "            height=\"500px\"\n",
       "            src=\"gre.html\"\n",
       "            frameborder=\"0\"\n",
       "            allowfullscreen\n",
       "        ></iframe>\n",
       "        "
      ],
      "text/plain": [
       "<IPython.lib.display.IFrame at 0x10e959128>"
      ]
     },
     "execution_count": 2,
     "metadata": {},
     "output_type": "execute_result"
    }
   ],
   "source": [
    "# Press shift+enter to see your network!\n",
    "gre_net.show(\"gre.html\")"
   ]
  },
  {
   "cell_type": "code",
   "execution_count": null,
   "metadata": {},
   "outputs": [],
   "source": []
  }
 ],
 "metadata": {
  "celltoolbar": "Slideshow",
  "kernelspec": {
   "display_name": "Python [default]",
   "language": "python",
   "name": "python3"
  },
  "language_info": {
   "codemirror_mode": {
    "name": "ipython",
    "version": 3
   },
   "file_extension": ".py",
   "mimetype": "text/x-python",
   "name": "python",
   "nbconvert_exporter": "python",
   "pygments_lexer": "ipython3",
   "version": "3.6.5"
  },
  "livereveal": {
   "autolaunch": true
  }
 },
 "nbformat": 4,
 "nbformat_minor": 1
}
